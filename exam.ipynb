{
 "cells": [
  {
   "cell_type": "code",
   "execution_count": null,
   "metadata": {},
   "outputs": [],
   "source": [
    "import tensorflow as tf\n",
    "\n",
    "# Create a session to run the graph\n",
    "with tf.compat.v1.Session() as sess:\n",
    "    matrix1 = tf.constant([[3, 3],[2, 4]])\n",
    "    matrix2 = tf.constant([[2],[2]])\n",
    "\n",
    "    # Create a matrix multiplication operation\n",
    "    product = tf.matmul(matrix1, matrix2)\n",
    "    result = sess.run(product)\n",
    "    print(result)\n"
   ]
  },
  {
   "cell_type": "code",
   "execution_count": 22,
   "metadata": {},
   "outputs": [
    {
     "name": "stdout",
     "output_type": "stream",
     "text": [
      "Loss: 140.7694091796875\n"
     ]
    }
   ],
   "source": [
    "from keras.models import Sequential\n",
    "from keras.layers import Dense,Input\n",
    "import numpy as np\n",
    "\n",
    "# Generate dataset\n",
    "x_train = np.array([5, 6, 7, 8])\n",
    "y_train = 2*x_train - np.random.rand(4)\n",
    "\n",
    "# Create a model\n",
    "model = Sequential()\n",
    "model.add(Input(shape=(1,)))\n",
    "model.add(Dense(1,activation='sigmoid'))\n",
    "\n",
    "# Compile the model\n",
    "model.compile(loss='mean_squared_error', optimizer='sgd')\n",
    "\n",
    "# Train the model\n",
    "model.fit(x_train, y_train, epochs=1000, verbose=0)\n",
    "\n",
    "# Test the model\n",
    "\n",
    "loss = model.evaluate(x_train, y_train, verbose=0)\n",
    "\n",
    "print(f'Loss: {loss}')"
   ]
  },
  {
   "cell_type": "code",
   "execution_count": 4,
   "metadata": {},
   "outputs": [
    {
     "name": "stdout",
     "output_type": "stream",
     "text": [
      "Epoch 10/100, Loss: 156.994384765625\n",
      "Epoch 20/100, Loss: 156.994384765625\n",
      "Epoch 30/100, Loss: 156.994384765625\n",
      "Epoch 40/100, Loss: 156.994384765625\n",
      "Epoch 50/100, Loss: 156.994384765625\n",
      "Epoch 60/100, Loss: 156.994384765625\n",
      "Epoch 70/100, Loss: 156.994384765625\n",
      "Epoch 80/100, Loss: 156.994384765625\n",
      "Epoch 90/100, Loss: 156.994384765625\n",
      "Epoch 100/100, Loss: 156.994384765625\n"
     ]
    }
   ],
   "source": [
    "import tensorflow as tf\n",
    "import numpy as np\n",
    "import matplotlib.pyplot as plt\n",
    "# Generate synthetic data\n",
    "np.random.seed(42)\n",
    "x_train = np.array([5, 6, 7, 8])\n",
    "y_train = 2*x_train - np.random.rand(4) # Variables for the model parameters (slope and intercept)\n",
    "slope = tf.Variable(0.0, name='slope')\n",
    "intercept = tf.Variable(0.0, name='intercept')\n",
    "# Hyperparameters\n",
    "learning_rate = 0.01\n",
    "epochs = 100\n",
    "# Gradient Descent optimizer\n",
    "optimizer = tf.optimizers.SGD(learning_rate) # Training loop\n",
    "for epoch in range(epochs): \n",
    "    with tf.GradientTape() as tape:\n",
    "        # Linear model\n",
    "        y_pred = slope * x_train + intercept\n",
    "        # Mean Squared Error loss\n",
    "        loss = tf.reduce_mean(tf.square(y_pred - y_train))\n",
    "        gradients = tape.gradient(loss, [slope, intercept])\n",
    "        # Update model parameters using the optimizer optimizer.apply_gradients(zip(gradients, [slope, intercept])) # Print the loss every 10 epochs\n",
    "        if(epoch+1)%10==0:\n",
    "            print(f'Epoch {epoch + 1}/{epochs}, Loss: {loss.numpy()}')"
   ]
  },
  {
   "cell_type": "code",
   "execution_count": 21,
   "metadata": {},
   "outputs": [
    {
     "name": "stdout",
     "output_type": "stream",
     "text": [
      "tf.Tensor([0.01798621 0.95257413 0.98201376], shape=(3,), dtype=float32)\n"
     ]
    }
   ],
   "source": [
    "import tensorflow as tf\n",
    "x = tf.constant([-4, 3, 4], dtype=tf.float32)\n",
    "y = tf.nn.sigmoid(x)\n",
    "print(y)"
   ]
  },
  {
   "cell_type": "code",
   "execution_count": null,
   "metadata": {},
   "outputs": [],
   "source": []
  }
 ],
 "metadata": {
  "kernelspec": {
   "display_name": "Python 3",
   "language": "python",
   "name": "python3"
  },
  "language_info": {
   "codemirror_mode": {
    "name": "ipython",
    "version": 3
   },
   "file_extension": ".py",
   "mimetype": "text/x-python",
   "name": "python",
   "nbconvert_exporter": "python",
   "pygments_lexer": "ipython3",
   "version": "3.11.9"
  }
 },
 "nbformat": 4,
 "nbformat_minor": 2
}
