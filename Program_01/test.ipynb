{
 "cells": [
  {
   "cell_type": "markdown",
   "metadata": {},
   "source": [
    "Logistical Regression using Gradiant Decendent with optimizing function"
   ]
  },
  {
   "cell_type": "code",
   "execution_count": 19,
   "metadata": {},
   "outputs": [],
   "source": [
    "import numpy as np"
   ]
  },
  {
   "cell_type": "code",
   "execution_count": 11,
   "metadata": {},
   "outputs": [],
   "source": [
    "def sigmoid(z):\n",
    "    \"\"\"\n",
    "    Compute the sigmoid function for the input z.\n",
    "\n",
    "    Parameters:\n",
    "    z (float or array-like): The input value(s) for which sigmoid is computed.\n",
    "\n",
    "    Returns:\n",
    "    float or array-like: The sigmoid value(s) computed for the input z.\n",
    "    \"\"\"\n",
    "    return 1/(1+np.exp(-z))"
   ]
  },
  {
   "cell_type": "code",
   "execution_count": 12,
   "metadata": {},
   "outputs": [],
   "source": [
    "def initialize_parameters(input_size, hidden_size, output_size):\n",
    "    \"\"\"\n",
    "    Initializes the parameters of a neural network.\n",
    "\n",
    "    Parameters:\n",
    "    - input_size (int): The number of input features.\n",
    "    - hidden_size (int): The number of units in the hidden layer.\n",
    "    - output_size (int): The number of output units.\n",
    "\n",
    "    Returns:\n",
    "    - parameters (dict): A dictionary containing the initialized parameters.\n",
    "        - \"w1\" (ndarray): The weight matrix of shape (hidden_size, input_size).\n",
    "        - \"b1\" (ndarray): The bias vector of shape (hidden_size, 1).\n",
    "        - \"w2\" (ndarray): The weight matrix of shape (output_size, hidden_size).\n",
    "        - \"b2\" (ndarray): The bias vector of shape (output_size, 1).\n",
    "    \"\"\"\n",
    "    np.random.seed(42)\n",
    "    w1 = np.random.randn(hidden_size, input_size) * 0.01\n",
    "    b1 = np.zeros((hidden_size, 1))\n",
    "    w2 = np.random.randn(output_size, hidden_size) * 0.01\n",
    "    b2 = np.zeros((output_size, 1))\n",
    "    parameters = {\"w1\": w1, \"b1\": b1, \"w2\": w2, \"b2\": b2}\n",
    "    return parameters"
   ]
  },
  {
   "cell_type": "code",
   "execution_count": 13,
   "metadata": {},
   "outputs": [],
   "source": [
    "def forward_propogation(x,parameters):\n",
    "    '''\n",
    "    Implements the forward propagation step of a neural network.\n",
    "\n",
    "    Parameters:\n",
    "    x (numpy.ndarray): Input data of shape (input_size, m).\n",
    "    parameters (dict): Dictionary containing the parameters of the neural network.\n",
    "\n",
    "    Returns:\n",
    "    a2 (numpy.ndarray): Output of the neural network.\n",
    "    cache (dict): Dictionary containing the intermediate values needed for backpropagation.\n",
    "    '''\n",
    "    w1,b1,w2,b2=parameters.values()\n",
    "    z1=np.dot(w1,x)+b1\n",
    "    a1=np.tanh(z1)# tanh provides the braod range from (-1,1) and used to provide outputt of hidden layer\n",
    "    z2=np.dot(w2,a1)+b2\n",
    "    a2=sigmoid(z2)# sigmoid provides the range from (0,1) and used to provide outputt of hidden layer\n",
    "    cache={\"z1\":z1,\"a1\":a1,\"z2\":z2,\"a2\":a2}\n",
    "    return a2,cache"
   ]
  },
  {
   "cell_type": "code",
   "execution_count": 14,
   "metadata": {},
   "outputs": [],
   "source": [
    "def compute_cost(a2, y):\n",
    "    \"\"\"\n",
    "    Compute the cost function for binary cross entropy.\n",
    "\n",
    "    Parameters:\n",
    "    a2 (numpy.ndarray): Predicted output of the neural network, shape (1, m).\n",
    "    y (numpy.ndarray): True labels, shape (1, m).\n",
    "\n",
    "    Returns:\n",
    "    float: The computed cost.\n",
    "\n",
    "    \"\"\"\n",
    "    m = y.shape[1]\n",
    "    cost = -(1/m) * np.sum(y * np.log(a2) + (1-y) * np.log(1-a2))\n",
    "    return cost"
   ]
  },
  {
   "cell_type": "code",
   "execution_count": 15,
   "metadata": {},
   "outputs": [],
   "source": [
    "def backward_propogation(parameters, cache, x, y):\n",
    "    \"\"\"\n",
    "    Compute the gradients of the neural network parameters using backward propagation.\n",
    "\n",
    "    Parameters:\n",
    "    parameters (dict): A dictionary containing the weights and biases of the neural network.\n",
    "    cache (dict): A dictionary containing the intermediate values computed during forward propagation.\n",
    "    x (ndarray): Input data of shape (input_size, m).\n",
    "    y (ndarray): True labels of shape (output_size, m).\n",
    "\n",
    "    Returns:\n",
    "    grads (dict): A dictionary containing the gradients of the weights and biases.\n",
    "\n",
    "    \"\"\"\n",
    "    m = x.shape[1]\n",
    "    w1, w2 = parameters['w1'], parameters['w2']\n",
    "    a1, a2 = cache['a1'], cache['a2']\n",
    "    dz2 = a2 - y\n",
    "    dw2 = (1 / m) * np.dot(dz2, a1.T)\n",
    "    db2 = (1 / m) * np.sum(dz2, axis=1, keepdims=True)\n",
    "    dz1 = np.dot(w2.T, dz2) * (1 - np.power(a1, 2))\n",
    "    dw1 = (1 / m) * np.dot(dz1, x.T)\n",
    "    db1 = (1 / m) * np.sum(dz1, axis=1, keepdims=True)\n",
    "    grads = {\"dw1\": dw1, \"db1\": db1, \"dw2\": dw2, \"db2\": db2}\n",
    "    return grads"
   ]
  },
  {
   "cell_type": "code",
   "execution_count": 16,
   "metadata": {},
   "outputs": [],
   "source": [
    "def update_parameters(parameters, grads, learning_rate=0.01):\n",
    "    \"\"\"\n",
    "    Update the parameters of a neural network using gradient descent.\n",
    "\n",
    "    Parameters:\n",
    "    - parameters (dict): A dictionary containing the current parameters of the neural network.\n",
    "    - grads (dict): A dictionary containing the gradients of the parameters.\n",
    "    - learning_rate (float): The learning rate for gradient descent. Default is 0.01.\n",
    "\n",
    "    Returns:\n",
    "    - parameters (dict): A dictionary containing the updated parameters of the neural network.\n",
    "    \"\"\"\n",
    "\n",
    "    lw = [w1, b1, w2, b2] = parameters.values()\n",
    "    ld = grads.values()\n",
    "    for i, j in zip(lw, ld):\n",
    "        i -= learning_rate * j\n",
    "    parameters = {\"w1\": w1, \"b1\": b1, \"w2\": w2, \"b2\": b2}\n",
    "    return parameters"
   ]
  },
  {
   "cell_type": "code",
   "execution_count": 17,
   "metadata": {},
   "outputs": [],
   "source": [
    "def model(x, y, input_size, hidden_size, output_size, num_iterations=10000):\n",
    "    \"\"\"\n",
    "    Trains a neural network model using forward and backward propagation.\n",
    "\n",
    "    Parameters:\n",
    "    - x: Input data of shape (input_size, m)\n",
    "    - y: True labels of shape (output_size, m)\n",
    "    - input_size: Number of input features\n",
    "    - hidden_size: Number of units in the hidden layer\n",
    "    - output_size: Number of output units\n",
    "    - num_iterations: Number of iterations for training (default: 10000)\n",
    "\n",
    "    Returns:\n",
    "    - parameters: Trained parameters of the model\n",
    "    \"\"\"\n",
    "    parameters=initialize_parameters(input_size,hidden_size,output_size)\n",
    "    for i in range(num_iterations+1):\n",
    "        a2,cache=forward_propogation(x,parameters)\n",
    "        cost=compute_cost(a2,y)\n",
    "        grads=backward_propogation(parameters,cache,x,y)\n",
    "        parameters=update_parameters(parameters,grads)\n",
    "        if i%1000==0:\n",
    "            print(\"Cost after %ith iteration: %f\" %(i,cost))\n",
    "    return parameters"
   ]
  },
  {
   "cell_type": "code",
   "execution_count": 18,
   "metadata": {},
   "outputs": [
    {
     "name": "stdout",
     "output_type": "stream",
     "text": [
      "Cost after 0th iteration: 0.693147\n",
      "Cost after 1000th iteration: 0.693147\n",
      "Cost after 2000th iteration: 0.693147\n",
      "Cost after 3000th iteration: 0.693147\n",
      "Cost after 4000th iteration: 0.693147\n",
      "Cost after 5000th iteration: 0.693147\n",
      "Cost after 6000th iteration: 0.693147\n",
      "Cost after 7000th iteration: 0.693147\n",
      "Cost after 8000th iteration: 0.693147\n",
      "Cost after 9000th iteration: 0.693147\n",
      "Cost after 10000th iteration: 0.693147\n"
     ]
    }
   ],
   "source": [
    "input_size=2\n",
    "hidden_size=4\n",
    "output_size=1\n",
    "x=np.array([[0,0],[0,1],[1,0],[1,1]]).T\n",
    "y=np.array([[0,1,1,0]])\n",
    "trained_parameters=model(x,y,input_size,hidden_size,output_size)"
   ]
  },
  {
   "cell_type": "code",
   "execution_count": null,
   "metadata": {},
   "outputs": [],
   "source": []
  }
 ],
 "metadata": {
  "kernelspec": {
   "display_name": "Python 3",
   "language": "python",
   "name": "python3"
  },
  "language_info": {
   "codemirror_mode": {
    "name": "ipython",
    "version": 3
   },
   "file_extension": ".py",
   "mimetype": "text/x-python",
   "name": "python",
   "nbconvert_exporter": "python",
   "pygments_lexer": "ipython3",
   "version": "3.11.9"
  }
 },
 "nbformat": 4,
 "nbformat_minor": 2
}
