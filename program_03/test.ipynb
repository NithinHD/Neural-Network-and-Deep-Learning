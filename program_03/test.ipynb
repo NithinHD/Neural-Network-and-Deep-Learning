{
 "cells": [
  {
   "cell_type": "code",
   "execution_count": 122,
   "metadata": {},
   "outputs": [],
   "source": [
    "import tensorflow as tf\n",
    "from tensorflow.keras import layers, models\n",
    "from tensorflow.keras.datasets import mnist\n",
    "from tensorflow.keras.utils import to_categorical\n",
    "import matplotlib.pyplot as plt"
   ]
  },
  {
   "cell_type": "code",
   "execution_count": 123,
   "metadata": {},
   "outputs": [],
   "source": [
    "(train_images, train_labels), (test_images, test_labels) = mnist.load_data()\n",
    "train_images = train_images.reshape((60000, 28, 28, 1)).astype('float32') / 255\n",
    "test_images = test_images.reshape((10000, 28, 28, 1)).astype('float32') / 255\n",
    "train_labels = to_categorical(train_labels)\n",
    "test_labels = to_categorical(test_labels)"
   ]
  },
  {
   "cell_type": "code",
   "execution_count": 124,
   "metadata": {},
   "outputs": [],
   "source": [
    "class NeuralNetwork:\n",
    "   def __init__(self, input_shape, num_classes):\n",
    "       self.model = self.build_model(input_shape, num_classes)\n",
    "   def build_model(self, input_shape, num_classes):\n",
    "       model = models.Sequential()\n",
    "       model.add(layers.Flatten(input_shape=input_shape))\n",
    "       model.add(layers.Dense(128, activation='relu'))\n",
    "       model.add(layers.Dense(64, activation='relu'))\n",
    "       model.add(layers.Dense(num_classes, activation='softmax'))\n",
    "       model.compile(optimizer='adam', loss='categorical_crossentropy', metrics=['accuracy'])\n",
    "       return model\n",
    " \n",
    "   def train(self, train_images, train_labels, epochs=5, batch_size=64, validation_split=0.1):\n",
    "       history = self.model.fit(train_images, train_labels, epochs=epochs, batch_size=batch_size, validation_split=validation_split)\n",
    "       return history\n",
    "   def evaluate(self, test_images, test_labels):\n",
    "       return self.model.evaluate(test_images, test_labels)\n",
    "   def predict(self, images):\n",
    "       return self.model.predict(images)"
   ]
  },
  {
   "cell_type": "code",
   "execution_count": 125,
   "metadata": {},
   "outputs": [
    {
     "name": "stdout",
     "output_type": "stream",
     "text": [
      "Epoch 1/5\n",
      "844/844 [==============================] - 3s 3ms/step - loss: 0.2935 - accuracy: 0.9146 - val_loss: 0.1201 - val_accuracy: 0.9650\n",
      "Epoch 2/5\n",
      "844/844 [==============================] - 2s 2ms/step - loss: 0.1197 - accuracy: 0.9646 - val_loss: 0.0948 - val_accuracy: 0.9713\n",
      "Epoch 3/5\n",
      "844/844 [==============================] - 2s 2ms/step - loss: 0.0827 - accuracy: 0.9748 - val_loss: 0.0810 - val_accuracy: 0.9753\n",
      "Epoch 4/5\n",
      "844/844 [==============================] - 2s 2ms/step - loss: 0.0602 - accuracy: 0.9815 - val_loss: 0.0782 - val_accuracy: 0.9763\n",
      "Epoch 5/5\n",
      "844/844 [==============================] - 2s 2ms/step - loss: 0.0476 - accuracy: 0.9850 - val_loss: 0.0771 - val_accuracy: 0.9777\n"
     ]
    }
   ],
   "source": [
    "input_shape = (28, 28, 1)\n",
    "num_classes = 10\n",
    "nn = NeuralNetwork(input_shape, num_classes)\n",
    "history = nn.train(train_images, train_labels, epochs=5)"
   ]
  },
  {
   "cell_type": "code",
   "execution_count": 126,
   "metadata": {},
   "outputs": [
    {
     "name": "stdout",
     "output_type": "stream",
     "text": [
      "313/313 [==============================] - 0s 1ms/step - loss: 0.0785 - accuracy: 0.9758\n",
      "Test accuracy: 0.9757999777793884\n"
     ]
    }
   ],
   "source": [
    "test_loss, test_acc = nn.evaluate(test_images, test_labels)\n",
    "print(f'Test accuracy: {test_acc}')"
   ]
  },
  {
   "cell_type": "code",
   "execution_count": 129,
   "metadata": {},
   "outputs": [
    {
     "name": "stdout",
     "output_type": "stream",
     "text": [
      "1/1 [==============================] - 0s 27ms/step\n"
     ]
    }
   ],
   "source": [
    "n=20\n",
    "predictions2 = [test_images[n:n+5],nn.predict(test_images[n:n+5])]"
   ]
  },
  {
   "cell_type": "code",
   "execution_count": 130,
   "metadata": {},
   "outputs": [
    {
     "data": {
      "image/png": "[encoded data removed]",
      "text/plain": [
       "<Figure size 2500x400 with 5 Axes>"
      ]
     },
     "metadata": {},
     "output_type": "display_data"
    }
   ],
   "source": [
    "plt.figure(figsize=(25, 4))\n",
    "for i in range(5):\n",
    "    plt.subplot(1, 5, i+1)\n",
    "    img_data = predictions2[0][i].reshape(28, 28)\n",
    "    plt.imshow(img_data, cmap='gray')\n",
    "    plt.title(f'Predicted: {tf.argmax(predictions2[1][i])}')\n",
    "    plt.axis('off')\n",
    "plt.show()"
   ]
  },
  {
   "cell_type": "code",
   "execution_count": null,
   "metadata": {},
   "outputs": [],
   "source": []
  }
 ],
 "metadata": {
  "kernelspec": {
   "display_name": "Python 3",
   "language": "python",
   "name": "python3"
  },
  "language_info": {
   "codemirror_mode": {
    "name": "ipython",
    "version": 3
   },
   "file_extension": ".py",
   "mimetype": "text/x-python",
   "name": "python",
   "nbconvert_exporter": "python",
   "pygments_lexer": "ipython3",
   "version": "3.11.8"
  }
 },
 "nbformat": 4,
 "nbformat_minor": 2
}
